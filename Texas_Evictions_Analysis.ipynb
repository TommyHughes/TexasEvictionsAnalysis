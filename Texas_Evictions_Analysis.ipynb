{
 "cells": [
  {
   "cell_type": "markdown",
   "metadata": {},
   "source": [
    "# Texas Evictions Analysis"
   ]
  },
  {
   "cell_type": "code",
   "execution_count": 1,
   "metadata": {},
   "outputs": [],
   "source": [
    "#Import packages\n",
    "import numpy as np\n",
    "import pandas as pd\n",
    "import matplotlib.pyplot as plt"
   ]
  },
  {
   "cell_type": "code",
   "execution_count": 4,
   "metadata": {},
   "outputs": [
    {
     "name": "stderr",
     "output_type": "stream",
     "text": [
      "/opt/anaconda3/lib/python3.7/site-packages/IPython/core/interactiveshell.py:3063: DtypeWarning: Columns (2) have mixed types.Specify dtype option on import or set low_memory=False.\n",
      "  interactivity=interactivity, compiler=compiler, result=result)\n"
     ]
    }
   ],
   "source": [
    "#Import data\n",
    "all_df = pd.read_csv(\"all.csv\")\n",
    "block_groups_df = pd.read_csv(\"block-groups.csv\")\n",
    "cities_df = pd.read_csv(\"cities.csv\")\n",
    "counties_df = pd.read_csv(\"counties.csv\")\n",
    "states_df = pd.read_csv(\"states.csv\")\n",
    "tracts_df = pd.read_csv(\"tracts.csv\")"
   ]
  },
  {
   "cell_type": "markdown",
   "metadata": {},
   "source": [
    "# Data Exploration"
   ]
  },
  {
   "cell_type": "code",
   "execution_count": 40,
   "metadata": {},
   "outputs": [
    {
     "name": "stdout",
     "output_type": "stream",
     "text": [
      "              Row Count\n",
      "all_df           392677\n",
      "block_groups     268787\n",
      "tracts            89505\n",
      "cities            30050\n",
      "counties           4318\n",
      "states               17\n"
     ]
    }
   ],
   "source": [
    "dfs = [all_df,block_groups_df,cities_df,counties_df,states_df,tracts_df]\n",
    "row_counts = pd.DataFrame(map(len,dfs), columns = [\"Row Count\"], index=[\"all_df\",\"block_groups\",\"cities\",\"counties\",\"states\",\"tracts\"])\n",
    "print(row_counts.sort_values(by=[\"Row Count\"],ascending=False))"
   ]
  },
  {
   "cell_type": "code",
   "execution_count": 64,
   "metadata": {},
   "outputs": [
    {
     "data": {
      "text/plain": [
       "['GEOID',\n",
       " 'year',\n",
       " 'name',\n",
       " 'parent-location',\n",
       " 'population',\n",
       " 'poverty-rate',\n",
       " 'renter-occupied-households',\n",
       " 'pct-renter-occupied',\n",
       " 'median-gross-rent',\n",
       " 'median-household-income',\n",
       " 'median-property-value',\n",
       " 'rent-burden',\n",
       " 'pct-white',\n",
       " 'pct-af-am',\n",
       " 'pct-hispanic',\n",
       " 'pct-am-ind',\n",
       " 'pct-asian',\n",
       " 'pct-nh-pi',\n",
       " 'pct-multiple',\n",
       " 'pct-other',\n",
       " 'eviction-filings',\n",
       " 'evictions',\n",
       " 'eviction-rate',\n",
       " 'eviction-filing-rate',\n",
       " 'low-flag',\n",
       " 'imputed',\n",
       " 'subbed']"
      ]
     },
     "execution_count": 64,
     "metadata": {},
     "output_type": "execute_result"
    }
   ],
   "source": []
  },
  {
   "cell_type": "code",
   "execution_count": null,
   "metadata": {},
   "outputs": [],
   "source": []
  },
  {
   "cell_type": "code",
   "execution_count": null,
   "metadata": {},
   "outputs": [],
   "source": []
  }
 ],
 "metadata": {
  "kernelspec": {
   "display_name": "Python 3",
   "language": "python",
   "name": "python3"
  },
  "language_info": {
   "codemirror_mode": {
    "name": "ipython",
    "version": 3
   },
   "file_extension": ".py",
   "mimetype": "text/x-python",
   "name": "python",
   "nbconvert_exporter": "python",
   "pygments_lexer": "ipython3",
   "version": "3.7.6"
  }
 },
 "nbformat": 4,
 "nbformat_minor": 4
}
