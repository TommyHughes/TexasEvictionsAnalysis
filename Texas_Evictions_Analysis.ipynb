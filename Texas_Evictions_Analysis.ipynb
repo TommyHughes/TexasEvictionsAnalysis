{
 "cells": [
  {
   "cell_type": "markdown",
   "metadata": {},
   "source": [
    "# Texas Evictions Analysis"
   ]
  },
  {
   "cell_type": "code",
   "execution_count": 66,
   "metadata": {},
   "outputs": [],
   "source": [
    "#Import packages\n",
    "import numpy as np\n",
    "import pandas as pd\n",
    "import matplotlib.pyplot as plt"
   ]
  },
  {
   "cell_type": "code",
   "execution_count": 67,
   "metadata": {},
   "outputs": [],
   "source": [
    "#Import data\n",
    "texas_df = pd.read_csv(\"all.csv\")"
   ]
  },
  {
   "cell_type": "markdown",
   "metadata": {},
   "source": [
    "# Data Exploration"
   ]
  },
  {
   "cell_type": "markdown",
   "metadata": {},
   "source": [
    "First let's see how many rows and columns we have"
   ]
  },
  {
   "cell_type": "code",
   "execution_count": 76,
   "metadata": {},
   "outputs": [
    {
     "output_type": "execute_result",
     "data": {
      "text/plain": "         texas_df\nRows       392677\nColumns        27",
      "text/html": "<div>\n<style scoped>\n    .dataframe tbody tr th:only-of-type {\n        vertical-align: middle;\n    }\n\n    .dataframe tbody tr th {\n        vertical-align: top;\n    }\n\n    .dataframe thead th {\n        text-align: right;\n    }\n</style>\n<table border=\"1\" class=\"dataframe\">\n  <thead>\n    <tr style=\"text-align: right;\">\n      <th></th>\n      <th>texas_df</th>\n    </tr>\n  </thead>\n  <tbody>\n    <tr>\n      <th>Rows</th>\n      <td>392677</td>\n    </tr>\n    <tr>\n      <th>Columns</th>\n      <td>27</td>\n    </tr>\n  </tbody>\n</table>\n</div>"
     },
     "metadata": {},
     "execution_count": 76
    }
   ],
   "source": [
    "pd.DataFrame(texas_df.shape, columns=[\"texas_df\"], index=['Rows','Columns'])"
   ]
  },
  {
   "cell_type": "markdown",
   "metadata": {},
   "source": [
    "Next, let's get a sense of what sort of data we have with the columns and data types, and determine how complete the data are with percent missing."
   ]
  },
  {
   "cell_type": "markdown",
   "metadata": {},
   "source": [
    "It can be shown that all tables have the same columns. Let's take a look at the column names to get a sense of what sort of data we have."
   ]
  },
  {
   "cell_type": "code",
   "execution_count": null,
   "metadata": {},
   "outputs": [],
   "source": []
  },
  {
   "cell_type": "code",
   "execution_count": 80,
   "metadata": {},
   "outputs": [
    {
     "output_type": "execute_result",
     "data": {
      "text/plain": "[0]"
     },
     "metadata": {},
     "execution_count": 80
    }
   ],
   "source": []
  },
  {
   "cell_type": "code",
   "execution_count": null,
   "metadata": {},
   "outputs": [],
   "source": []
  },
  {
   "cell_type": "code",
   "execution_count": 77,
   "metadata": {},
   "outputs": [
    {
     "output_type": "execute_result",
     "data": {
      "text/plain": "                           Data Type  Percent Null\nGEOID                          int64      0.000000\nyear                           int64      0.000000\nname                          object      0.000000\nparent-location               object      0.000000\npopulation                   float64      0.689116\npoverty-rate                 float64      0.689116\nrenter-occupied-households   float64      2.011832\npct-renter-occupied          float64      0.689116\nmedian-gross-rent            float64      7.131052\nmedian-household-income      float64      1.974906\nmedian-property-value        float64      3.433102\nrent-burden                  float64      6.270293\npct-white                    float64      0.689116\npct-af-am                    float64      0.689116\npct-hispanic                 float64      0.689116\npct-am-ind                   float64      0.689116\npct-asian                    float64      0.689116\npct-nh-pi                    float64      0.689116\npct-multiple                 float64      0.689116\npct-other                    float64      0.689116\neviction-filings             float64     14.737558\nevictions                    float64     14.737558\neviction-rate                float64     14.737558\neviction-filing-rate         float64     14.737558\nlow-flag                       int64      0.000000\nimputed                        int64      0.000000\nsubbed                         int64      0.000000",
      "text/html": "<div>\n<style scoped>\n    .dataframe tbody tr th:only-of-type {\n        vertical-align: middle;\n    }\n\n    .dataframe tbody tr th {\n        vertical-align: top;\n    }\n\n    .dataframe thead th {\n        text-align: right;\n    }\n</style>\n<table border=\"1\" class=\"dataframe\">\n  <thead>\n    <tr style=\"text-align: right;\">\n      <th></th>\n      <th>Data Type</th>\n      <th>Percent Null</th>\n    </tr>\n  </thead>\n  <tbody>\n    <tr>\n      <th>GEOID</th>\n      <td>int64</td>\n      <td>0.000000</td>\n    </tr>\n    <tr>\n      <th>year</th>\n      <td>int64</td>\n      <td>0.000000</td>\n    </tr>\n    <tr>\n      <th>name</th>\n      <td>object</td>\n      <td>0.000000</td>\n    </tr>\n    <tr>\n      <th>parent-location</th>\n      <td>object</td>\n      <td>0.000000</td>\n    </tr>\n    <tr>\n      <th>population</th>\n      <td>float64</td>\n      <td>0.689116</td>\n    </tr>\n    <tr>\n      <th>poverty-rate</th>\n      <td>float64</td>\n      <td>0.689116</td>\n    </tr>\n    <tr>\n      <th>renter-occupied-households</th>\n      <td>float64</td>\n      <td>2.011832</td>\n    </tr>\n    <tr>\n      <th>pct-renter-occupied</th>\n      <td>float64</td>\n      <td>0.689116</td>\n    </tr>\n    <tr>\n      <th>median-gross-rent</th>\n      <td>float64</td>\n      <td>7.131052</td>\n    </tr>\n    <tr>\n      <th>median-household-income</th>\n      <td>float64</td>\n      <td>1.974906</td>\n    </tr>\n    <tr>\n      <th>median-property-value</th>\n      <td>float64</td>\n      <td>3.433102</td>\n    </tr>\n    <tr>\n      <th>rent-burden</th>\n      <td>float64</td>\n      <td>6.270293</td>\n    </tr>\n    <tr>\n      <th>pct-white</th>\n      <td>float64</td>\n      <td>0.689116</td>\n    </tr>\n    <tr>\n      <th>pct-af-am</th>\n      <td>float64</td>\n      <td>0.689116</td>\n    </tr>\n    <tr>\n      <th>pct-hispanic</th>\n      <td>float64</td>\n      <td>0.689116</td>\n    </tr>\n    <tr>\n      <th>pct-am-ind</th>\n      <td>float64</td>\n      <td>0.689116</td>\n    </tr>\n    <tr>\n      <th>pct-asian</th>\n      <td>float64</td>\n      <td>0.689116</td>\n    </tr>\n    <tr>\n      <th>pct-nh-pi</th>\n      <td>float64</td>\n      <td>0.689116</td>\n    </tr>\n    <tr>\n      <th>pct-multiple</th>\n      <td>float64</td>\n      <td>0.689116</td>\n    </tr>\n    <tr>\n      <th>pct-other</th>\n      <td>float64</td>\n      <td>0.689116</td>\n    </tr>\n    <tr>\n      <th>eviction-filings</th>\n      <td>float64</td>\n      <td>14.737558</td>\n    </tr>\n    <tr>\n      <th>evictions</th>\n      <td>float64</td>\n      <td>14.737558</td>\n    </tr>\n    <tr>\n      <th>eviction-rate</th>\n      <td>float64</td>\n      <td>14.737558</td>\n    </tr>\n    <tr>\n      <th>eviction-filing-rate</th>\n      <td>float64</td>\n      <td>14.737558</td>\n    </tr>\n    <tr>\n      <th>low-flag</th>\n      <td>int64</td>\n      <td>0.000000</td>\n    </tr>\n    <tr>\n      <th>imputed</th>\n      <td>int64</td>\n      <td>0.000000</td>\n    </tr>\n    <tr>\n      <th>subbed</th>\n      <td>int64</td>\n      <td>0.000000</td>\n    </tr>\n  </tbody>\n</table>\n</div>"
     },
     "metadata": {},
     "execution_count": 77
    }
   ],
   "source": [
    "pd.DataFrame({\"Data Type\": texas_df.dtypes, \"Percent Null\": texas_df.isnull().sum() / len(texas_df) * 100})"
   ]
  },
  {
   "cell_type": "code",
   "execution_count": null,
   "metadata": {},
   "outputs": [],
   "source": []
  }
 ],
 "metadata": {
  "kernelspec": {
   "display_name": "Python 3",
   "language": "python",
   "name": "python3"
  },
  "language_info": {
   "codemirror_mode": {
    "name": "ipython",
    "version": 3
   },
   "file_extension": ".py",
   "mimetype": "text/x-python",
   "name": "python",
   "nbconvert_exporter": "python",
   "pygments_lexer": "ipython3",
   "version": "3.7.6"
  }
 },
 "nbformat": 4,
 "nbformat_minor": 4
}